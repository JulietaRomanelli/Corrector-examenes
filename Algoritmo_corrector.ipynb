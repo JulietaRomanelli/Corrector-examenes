{
  "nbformat": 4,
  "nbformat_minor": 0,
  "metadata": {
    "colab": {
      "provenance": [],
      "authorship_tag": "ABX9TyNX28FEpd5Kvo0lIXoIQl0P",
      "include_colab_link": true
    },
    "kernelspec": {
      "name": "python3",
      "display_name": "Python 3"
    },
    "language_info": {
      "name": "python"
    }
  },
  "cells": [
    {
      "cell_type": "markdown",
      "metadata": {
        "id": "view-in-github",
        "colab_type": "text"
      },
      "source": [
        "<a href=\"https://colab.research.google.com/github/JulietaRomanelli/Corrector-examenes/blob/main/Algoritmo_corrector.ipynb\" target=\"_parent\"><img src=\"https://colab.research.google.com/assets/colab-badge.svg\" alt=\"Open In Colab\"/></a>"
      ]
    },
    {
      "cell_type": "markdown",
      "source": [
        "Cargo las librerias que se utilizarán"
      ],
      "metadata": {
        "id": "r7g_Vg44F9E1"
      }
    },
    {
      "cell_type": "code",
      "source": [
        "!pip install textacy"
      ],
      "metadata": {
        "id": "8zghks4QLrKq"
      },
      "execution_count": null,
      "outputs": []
    },
    {
      "cell_type": "code",
      "execution_count": 19,
      "metadata": {
        "id": "Jd5YVIGVEYpg"
      },
      "outputs": [],
      "source": [
        "from nltk.stem import WordNetLemmatizer\n",
        "from nltk.stem import SnowballStemmer\n",
        "from nltk.tokenize import word_tokenize\n",
        "from nltk.corpus import stopwords\n",
        "import textacy.preprocessing as tprep\n",
        "import matplotlib.pyplot as plt\n",
        "import pandas as pd\n",
        "import numpy as np"
      ]
    },
    {
      "cell_type": "markdown",
      "source": [
        "Cargo la base de datos"
      ],
      "metadata": {
        "id": "T6NlOe8BGIY4"
      }
    },
    {
      "cell_type": "code",
      "source": [
        "!gdown --id 1S21PTD7erS6GecuZfySF_zEVpNODCGxr\n",
        "df = pd.read_csv(\"IO Respuestas.csv\")\n",
        "from google.colab import data_table\n",
        "data_table.DataTable(df)"
      ],
      "metadata": {
        "colab": {
          "base_uri": "https://localhost:8080/",
          "height": 1178
        },
        "id": "IQH-SVPOGMHD",
        "outputId": "8ab24111-e212-4a6e-d2c9-16c0aaec7759"
      },
      "execution_count": 22,
      "outputs": [
        {
          "output_type": "stream",
          "name": "stdout",
          "text": [
            "/usr/local/lib/python3.7/dist-packages/gdown/cli.py:131: FutureWarning: Option `--id` was deprecated in version 4.3.1 and will be removed in 5.0. You don't need to pass it anymore to use a file ID.\n",
            "  category=FutureWarning,\n",
            "Downloading...\n",
            "From: https://drive.google.com/uc?id=1S21PTD7erS6GecuZfySF_zEVpNODCGxr\n",
            "To: /content/IO Respuestas.csv\n",
            "100% 17.4k/17.4k [00:00<00:00, 16.6MB/s]\n"
          ]
        },
        {
          "output_type": "execute_result",
          "data": {
            "text/html": [
              "<div>\n",
              "<style scoped>\n",
              "    .dataframe tbody tr th:only-of-type {\n",
              "        vertical-align: middle;\n",
              "    }\n",
              "\n",
              "    .dataframe tbody tr th {\n",
              "        vertical-align: top;\n",
              "    }\n",
              "\n",
              "    .dataframe thead th {\n",
              "        text-align: right;\n",
              "    }\n",
              "</style>\n",
              "<table border=\"1\" class=\"dataframe\">\n",
              "  <thead>\n",
              "    <tr style=\"text-align: right;\">\n",
              "      <th></th>\n",
              "      <th>Marca temporal</th>\n",
              "      <th>Dirección de correo electrónico</th>\n",
              "      <th>Padrón sin números</th>\n",
              "      <th>¿qué es la Investigación Operativa?</th>\n",
              "    </tr>\n",
              "  </thead>\n",
              "  <tbody>\n",
              "    <tr>\n",
              "      <th>0</th>\n",
              "      <td>30/03/2022 17:49:38</td>\n",
              "      <td>pcortif@fi.uba.ar</td>\n",
              "      <td>100723</td>\n",
              "      <td>Se basa en  la utilización de métodos analític...</td>\n",
              "    </tr>\n",
              "    <tr>\n",
              "      <th>1</th>\n",
              "      <td>30/03/2022 18:00:36</td>\n",
              "      <td>mcirolini@fi.uba.ar</td>\n",
              "      <td>97739</td>\n",
              "      <td>Optimización y diseño de operaciones, control ...</td>\n",
              "    </tr>\n",
              "    <tr>\n",
              "      <th>2</th>\n",
              "      <td>30/03/2022 18:30:40</td>\n",
              "      <td>rparedes@fi.uba.ar</td>\n",
              "      <td>97920</td>\n",
              "      <td>Aplicaciones de métodos operativos a la vida real</td>\n",
              "    </tr>\n",
              "    <tr>\n",
              "      <th>3</th>\n",
              "      <td>30/03/2022 19:20:14</td>\n",
              "      <td>mledesma@fi.uba.ar</td>\n",
              "      <td>102908</td>\n",
              "      <td>La optimización de las operaciones mediante el...</td>\n",
              "    </tr>\n",
              "    <tr>\n",
              "      <th>4</th>\n",
              "      <td>30/03/2022 19:20:32</td>\n",
              "      <td>tandrada@fi.uba.ar</td>\n",
              "      <td>100586</td>\n",
              "      <td>Una forma interdisciplinaria de resolver probl...</td>\n",
              "    </tr>\n",
              "    <tr>\n",
              "      <th>...</th>\n",
              "      <td>...</td>\n",
              "      <td>...</td>\n",
              "      <td>...</td>\n",
              "      <td>...</td>\n",
              "    </tr>\n",
              "    <tr>\n",
              "      <th>116</th>\n",
              "      <td>30/03/2022 21:52:35</td>\n",
              "      <td>jrenovales@fi.uba.ar</td>\n",
              "      <td>103787</td>\n",
              "      <td>Es el area que se encarga de aplicar distintos...</td>\n",
              "    </tr>\n",
              "    <tr>\n",
              "      <th>117</th>\n",
              "      <td>30/03/2022 23:07:20</td>\n",
              "      <td>jovillamil@fi.uba.ar</td>\n",
              "      <td>99825</td>\n",
              "      <td>NaN</td>\n",
              "    </tr>\n",
              "    <tr>\n",
              "      <th>118</th>\n",
              "      <td>31/03/2022 12:00:41</td>\n",
              "      <td>npesaresi@fi.uba.ar</td>\n",
              "      <td>104911</td>\n",
              "      <td>Aplicación de la ciencia moderna a problemas c...</td>\n",
              "    </tr>\n",
              "    <tr>\n",
              "      <th>119</th>\n",
              "      <td>1/04/2022 17:30:14</td>\n",
              "      <td>mjung@fi.uba.ar</td>\n",
              "      <td>102939</td>\n",
              "      <td>No pude completar la encuesta con el celular e...</td>\n",
              "    </tr>\n",
              "    <tr>\n",
              "      <th>120</th>\n",
              "      <td>2/04/2022 9:55:29</td>\n",
              "      <td>fcolotto@fi.uba.ar</td>\n",
              "      <td>101455</td>\n",
              "      <td>El estudio de las operaciones. Como distribuir...</td>\n",
              "    </tr>\n",
              "  </tbody>\n",
              "</table>\n",
              "<p>121 rows × 4 columns</p>\n",
              "</div>"
            ],
            "application/vnd.google.colaboratory.module+javascript": "\n      import \"https://ssl.gstatic.com/colaboratory/data_table/a8bd4d5e58f96183/data_table.js\";\n\n      window.createDataTable({\n        data: [[{\n            'v': 0,\n            'f': \"0\",\n        },\n\"30/03/2022 17:49:38\",\n\"pcortif@fi.uba.ar\",\n{\n            'v': 100723,\n            'f': \"100723\",\n        },\n\"Se basa en  la utilizaci\\u00f3n de m\\u00e9todos anal\\u00edticos para ayudar a tomar mejores decisiones\"],\n [{\n            'v': 1,\n            'f': \"1\",\n        },\n\"30/03/2022 18:00:36\",\n\"mcirolini@fi.uba.ar\",\n{\n            'v': 97739,\n            'f': \"97739\",\n        },\n\"Optimizaci\\u00f3n y dise\\u00f1o de operaciones, control y procesos industriales \"],\n [{\n            'v': 2,\n            'f': \"2\",\n        },\n\"30/03/2022 18:30:40\",\n\"rparedes@fi.uba.ar\",\n{\n            'v': 97920,\n            'f': \"97920\",\n        },\n\"Aplicaciones de m\\u00e9todos operativos a la vida real\"],\n [{\n            'v': 3,\n            'f': \"3\",\n        },\n\"30/03/2022 19:20:14\",\n\"mledesma@fi.uba.ar\",\n{\n            'v': 102908,\n            'f': \"102908\",\n        },\n\"La optimizaci\\u00f3n de las operaciones mediante el uso de la programaci\\u00f3n\"],\n [{\n            'v': 4,\n            'f': \"4\",\n        },\n\"30/03/2022 19:20:32\",\n\"tandrada@fi.uba.ar\",\n{\n            'v': 100586,\n            'f': \"100586\",\n        },\n\"Una forma interdisciplinaria de resolver problemas multivariables\"],\n [{\n            'v': 5,\n            'f': \"5\",\n        },\n\"30/03/2022 19:20:52\",\n\"rparedes@fi.uba.ar\",\n{\n            'v': 97920,\n            'f': \"97920\",\n        },\n\"An\\u00e1lisis operativo de la realidad\"],\n [{\n            'v': 6,\n            'f': \"6\",\n        },\n\"30/03/2022 19:20:55\",\n\"vlugea@fi.uba.ar\",\n{\n            'v': 102309,\n            'f': \"102309\",\n        },\n\"aplicaci\\u00f3n de un m\\u00e9todo junto a modelos matem\\u00e1ticos para resolver problemas \"],\n [{\n            'v': 7,\n            'f': \"7\",\n        },\n\"30/03/2022 19:20:59\",\n\"fdessy@fi.uba.ar\",\n{\n            'v': 102120,\n            'f': \"102120\",\n        },\n\"M\\u00e9todos para optimizar procesos\"],\n [{\n            'v': 8,\n            'f': \"8\",\n        },\n\"30/03/2022 19:21:00\",\n\"jmoschetto@fi.uba.ar\",\n{\n            'v': 101100,\n            'f': \"101100\",\n        },\n\"Programar para analizar datos ?\"],\n [{\n            'v': 9,\n            'f': \"9\",\n        },\n\"30/03/2022 19:21:05\",\n\"sharriague@fi.uba.ar\",\n{\n            'v': 103803,\n            'f': \"103803\",\n        },\n\"Aplicar conocimientos matem\\u00e1ticos y l\\u00f3gicos aprendidos en la carrera para encontrar soluciones a problemas complejos, y mediante una actitud metodica, poder tomar decisiones.\"],\n [{\n            'v': 10,\n            'f': \"10\",\n        },\n\"30/03/2022 19:21:09\",\n\"tbreuning@fi.uba.ar\",\n{\n            'v': 104210,\n            'f': \"104210\",\n        },\n\"La investigaci\\u00f3n de las operaciones industriales\"],\n [{\n            'v': 11,\n            'f': \"11\",\n        },\n\"30/03/2022 19:21:12\",\n\"jkurant@fi.uba.ar\",\n{\n            'v': 102408,\n            'f': \"102408\",\n        },\n\"Es el estudio e investigaci\\u00f3n de como suceden las operaciones en distintos procesos productivos.\"],\n [{\n            'v': 12,\n            'f': \"12\",\n        },\n\"30/03/2022 19:21:16\",\n\"vmusolino@fi.uba.ar\",\n{\n            'v': 103875,\n            'f': \"103875\",\n        },\n\"No s\\u00e9 \\ud83d\\ude2c\"],\n [{\n            'v': 13,\n            'f': \"13\",\n        },\n\"30/03/2022 19:21:18\",\n\"mferrero@fi.uba.ar\",\n{\n            'v': 98667,\n            'f': \"98667\",\n        },\n\"No lo se, asumo que serie de procedimientos para manejar grandes vol\\u00famenes de datos para transformarlos en informaci\\u00f3n \\u00fatil y valiosa\"],\n [{\n            'v': 14,\n            'f': \"14\",\n        },\n\"30/03/2022 19:21:18\",\n\"adedomenico@fi.uba.ar\",\n{\n            'v': 102277,\n            'f': \"102277\",\n        },\n\"Programar distintos casos\"],\n [{\n            'v': 15,\n            'f': \"15\",\n        },\n\"30/03/2022 19:21:20\",\n\"jabad@fi.uba.ar\",\n{\n            'v': 103858,\n            'f': \"103858\",\n        },\n\"Analisis de datos de las operaciones en un proceso, para poder inferir cosas \"],\n [{\n            'v': 16,\n            'f': \"16\",\n        },\n\"30/03/2022 19:21:22\",\n\"jorione@fi.uba.ar\",\n{\n            'v': 102346,\n            'f': \"102346\",\n        },\n\"La disciplina que busca optimizar la asignaci\\u00f3n de recursos de la manera mas eficiente posible\"],\n [{\n            'v': 17,\n            'f': \"17\",\n        },\n\"30/03/2022 19:21:28\",\n\"pcassina@fi.uba.ar\",\n{\n            'v': 104102,\n            'f': \"104102\",\n        },\n\"Computaci\\u00f3n aplicada\"],\n [{\n            'v': 18,\n            'f': \"18\",\n        },\n\"30/03/2022 19:21:28\",\n\"mrossi@fi.uba.ar\",\n{\n            'v': 90845,\n            'f': \"90845\",\n        },\n\"Investiga procesos productivos \"],\n [{\n            'v': 19,\n            'f': \"19\",\n        },\n\"30/03/2022 19:21:29\",\n\"trossi@fi.uba.ar\",\n{\n            'v': 104122,\n            'f': \"104122\",\n        },\n\"Aplicaci\\u00f3n de la ciencia moderna a problemas complejos\"],\n [{\n            'v': 20,\n            'f': \"20\",\n        },\n\"30/03/2022 19:21:30\",\n\"cfblanco@fi.uba.ar\",\n{\n            'v': 101909,\n            'f': \"101909\",\n        },\n\"An\\u00e1lisis de datos para tomar decisiones \"],\n [{\n            'v': 21,\n            'f': \"21\",\n        },\n\"30/03/2022 19:21:36\",\n\"fcoutinho@fi.uba.ar\",\n{\n            'v': 104353,\n            'f': \"104353\",\n        },\n\"El an\\u00e1lisis de todas las variables que intervienen en un proyecto para ayudar a tomar la mejor decisi\\u00f3n.\"],\n [{\n            'v': 22,\n            'f': \"22\",\n        },\n\"30/03/2022 19:21:38\",\n\"inobili@fi.uba.ar\",\n{\n            'v': 103773,\n            'f': \"103773\",\n        },\n\"Aplicaci\\u00f3n de la ciencia moderna a problemas complejos que aparecen en la administraci\\u00f3n de sistemas.\"],\n [{\n            'v': 23,\n            'f': \"23\",\n        },\n\"30/03/2022 19:21:40\",\n\"meizayaga@fi.uba.ar\",\n{\n            'v': 104458,\n            'f': \"104458\",\n        },\n\"La investigaci\\u00f3n metodica de las operaciones a trav\\u00e9s de la toma de datos\"],\n [{\n            'v': 24,\n            'f': \"24\",\n        },\n\"30/03/2022 19:21:44\",\n\"pparra@fi.uba.ar\",\n{\n            'v': 99458,\n            'f': \"99458\",\n        },\n\"Es una forma de resolver problemas que surgen en una empresa, de manera met\\u00f3dica y con herramientas que facilitan su resoluci\\u00f3n, ya que sin ellas, podr\\u00eda ser imposible.\"],\n [{\n            'v': 25,\n            'f': \"25\",\n        },\n\"30/03/2022 19:21:44\",\n\"corona@fi.uba.ar\",\n{\n            'v': 84360,\n            'f': \"84360\",\n        },\n\"M\\u00e9todos l\\u00f3gicos y matematicos para resolver problemas a trav\\u00e9s de modelos \"],\n [{\n            'v': 26,\n            'f': \"26\",\n        },\n\"30/03/2022 19:21:45\",\n\"jomhernandez@fi.uba.ar\",\n{\n            'v': 104067,\n            'f': \"104067\",\n        },\n\"La mejora de distintas operaciones mediante el analisis de los datos que dichas operaciones proporcionan\"],\n [{\n            'v': 27,\n            'f': \"27\",\n        },\n\"30/03/2022 19:21:47\",\n\"fsolmi@fi.uba.ar\",\n{\n            'v': 103995,\n            'f': \"103995\",\n        },\n\"An\\u00e1lisis de datos para la toma de decisiones \"],\n [{\n            'v': 28,\n            'f': \"28\",\n        },\n\"30/03/2022 19:21:49\",\n\"tlucarno@fi.uba.ar\",\n{\n            'v': 103303,\n            'f': \"103303\",\n        },\n\"Emplear modelos matem\\u00e1ticos para modelizar situaciones de la vida real\"],\n [{\n            'v': 29,\n            'f': \"29\",\n        },\n\"30/03/2022 19:21:51\",\n\"pdenotta@fi.uba.ar\",\n{\n            'v': 101167,\n            'f': \"101167\",\n        },\n\"Aprender a dar instrucciones a un operador para lograr un objetivo\"],\n [{\n            'v': 30,\n            'f': \"30\",\n        },\n\"30/03/2022 19:21:52\",\n\"tsuescun@fi.uba.ar\",\n{\n            'v': 103756,\n            'f': \"103756\",\n        },\n\"La investigaci\\u00f3n operativa es crear programas para analizar datos y resolver problemas. \"],\n [{\n            'v': 31,\n            'f': \"31\",\n        },\n\"30/03/2022 19:21:52\",\n\"jmassa@fi.uba.ar\",\n{\n            'v': 96931,\n            'f': \"96931\",\n        },\n\"Es el analisis de alternativas para la toma de decisiones y mejor activacion de recursos\"],\n [{\n            'v': 32,\n            'f': \"32\",\n        },\n\"30/03/2022 19:21:54\",\n\"fdonatti@fi.uba.ar\",\n{\n            'v': 103872,\n            'f': \"103872\",\n        },\n\"Es una t\\u00e9cnica que permite de analizar y programar los procesos operativos en forma sist\\u00e9mica \"],\n [{\n            'v': 33,\n            'f': \"33\",\n        },\n\"30/03/2022 19:21:54\",\n\"ancasal@fi.uba.ar\",\n{\n            'v': 103751,\n            'f': \"103751\",\n        },\n\"Es el estudio de alternativas inform\\u00e1ticas para la soluci\\u00f3n de problemas \"],\n [{\n            'v': 34,\n            'f': \"34\",\n        },\n\"30/03/2022 19:21:58\",\n\"pcortif@fi.uba.ar\",\n{\n            'v': 100723,\n            'f': \"100723\",\n        },\n\"Uso de datos para mejora administratiba\"],\n [{\n            'v': 35,\n            'f': \"35\",\n        },\n\"30/03/2022 19:22:03\",\n\"mchoque@fi.uba.ar\",\n{\n            'v': 96659,\n            'f': \"96659\",\n        },\n\"Analisis de datos para la toma de desiciones\"],\n [{\n            'v': 36,\n            'f': \"36\",\n        },\n\"30/03/2022 19:22:04\",\n\"jmazaira@fi.uba.ar\",\n{\n            'v': 99209,\n            'f': \"99209\",\n        },\n\"Un conjunto de metodos para planificaci\\u00f3n y optimizaci\\u00f3n \"],\n [{\n            'v': 37,\n            'f': \"37\",\n        },\n\"30/03/2022 19:22:09\",\n\"tfernandezl@fi.uba.ar\",\n{\n            'v': 102821,\n            'f': \"102821\",\n        },\n\"Es la investigaci\\u00f3n de cualquier tema usando herramientas matem\\u00e1ticas para obtener un modelo te\\u00f3rico que explique los datos\"],\n [{\n            'v': 38,\n            'f': \"38\",\n        },\n\"30/03/2022 19:22:10\",\n\"equiroga@fi.uba.ar\",\n{\n            'v': 101686,\n            'f': \"101686\",\n        },\n\"Buscar informaci\\u00f3n de manera ordenada para la toma de decisiones\"],\n [{\n            'v': 39,\n            'f': \"39\",\n        },\n\"30/03/2022 19:22:10\",\n\"caguero@fi.uba.ar\",\n{\n            'v': 102866,\n            'f': \"102866\",\n        },\n\"C\\u00f3mo resolver problemas aplicando modelos matem\\u00e1ticos \"],\n [{\n            'v': 40,\n            'f': \"40\",\n        },\n\"30/03/2022 19:22:13\",\n\"afavereau@fi.uba.ar\",\n{\n            'v': 102569,\n            'f': \"102569\",\n        },\n\"Usar operaciones computarizadas para resolver problemas reales\"],\n [{\n            'v': 41,\n            'f': \"41\",\n        },\n\"30/03/2022 19:22:13\",\n\"acordoba@fi.uba.ar\",\n{\n            'v': 103971,\n            'f': \"103971\",\n        },\n\" M\\u00e9todos iterativos para encontrar la soluci\\u00f3n \\u00f3ptima dadas las restricciones. Se puede aplicar a procesos productivos para evaluar todas las alternativas de secuenciaci\\u00f3n.\"],\n [{\n            'v': 42,\n            'f': \"42\",\n        },\n\"30/03/2022 19:22:15\",\n\"aabbruzzese@fi.uba.ar\",\n{\n            'v': 105140,\n            'f': \"105140\",\n        },\n\"Encargada de modelizar problemas reales en forma de modelos numericos\"],\n [{\n            'v': 43,\n            'f': \"43\",\n        },\n\"30/03/2022 19:22:15\",\n\"pgsantos@fi.uba.ar\",\n{\n            'v': 87291,\n            'f': \"87291\",\n        },\n\"An\\u00e1lisis estad\\u00edstico de procesos\"],\n [{\n            'v': 44,\n            'f': \"44\",\n        },\n\"30/03/2022 19:22:16\",\n\"aghiorzi@fi.uba.ar\",\n{\n            'v': 104064,\n            'f': \"104064\",\n        },\n\"\\u00c1rea que permite analizar problemas operativos complejos, y resolverlos a partir de t\\u00e9cnicas que lo separen o simplifiquen\"],\n [{\n            'v': 45,\n            'f': \"45\",\n        },\n\"30/03/2022 19:22:22\",\n\"cvaracalli@fi.uba.ar\",\n{\n            'v': 103908,\n            'f': \"103908\",\n        },\n\"La lO es una ciencia que busca optimizar y encontrar patrones para mejorar los procesos. Es uno de los pilares de la ingenier\\u00eda industrial.\"],\n [{\n            'v': 46,\n            'f': \"46\",\n        },\n\"30/03/2022 19:22:22\",\n\"mdegano@fi.uba.ar\",\n{\n            'v': 96379,\n            'f': \"96379\",\n        },\n\"M\\u00e9todos matem\\u00e1ticos aplicados a casos reales para la toma de decisiones \"],\n [{\n            'v': 47,\n            'f': \"47\",\n        },\n\"30/03/2022 19:22:23\",\n\"farrachea@fi.uba.ar\",\n{\n            'v': 104186,\n            'f': \"104186\",\n        },\n\"El estudio de procesos a partir de la aplicaci\\u00f3n de m\\u00e9todos num\\u00e9ricos \"],\n [{\n            'v': 48,\n            'f': \"48\",\n        },\n\"30/03/2022 19:22:24\",\n\"magentile@fi.uba.ar\",\n{\n            'v': 104205,\n            'f': \"104205\",\n        },\n\"Es emplear modelos matem\\u00e1ticos para resolver situaciones cotidianas.\"],\n [{\n            'v': 49,\n            'f': \"49\",\n        },\n\"30/03/2022 19:22:30\",\n\"aarbor@fi.uba.ar\",\n{\n            'v': 98313,\n            'f': \"98313\",\n        },\n\"La optimizaci\\u00f3n de recursos a trav\\u00e9s de c\\u00e1lculos para lograr la mayor eficiencia posible y el mejor aprovechamiento de la combinaci\\u00f3n de dichos recursos.\"],\n [{\n            'v': 50,\n            'f': \"50\",\n        },\n\"30/03/2022 19:22:31\",\n\"mnoe@fi.uba.ar\",\n{\n            'v': 102238,\n            'f': \"102238\",\n        },\n\"Es el estudio de determinadas situaciones para trabajar de una forma optima.\"],\n [{\n            'v': 51,\n            'f': \"51\",\n        },\n\"30/03/2022 19:22:33\",\n\"gschiavetta@fi.uba.ar\",\n{\n            'v': 93876,\n            'f': \"93876\",\n        },\n\"La conexion entre la progamacion y la actividad en una industria de un ingeniero. Le da herramientas para simplificar problemas a traves de la modelizacion en algun lenguaje de programacion\"],\n [{\n            'v': 52,\n            'f': \"52\",\n        },\n\"30/03/2022 19:22:33\",\n\"vurionaguena@fi.uba.ar\",\n{\n            'v': 102204,\n            'f': \"102204\",\n        },\n\"Es la forma de buscar y encontrar una soluci\\u00f3n a trav\\u00e9s de distintas herramientas a problemas q se presentan en operaciones de distintos tipos\"],\n [{\n            'v': 53,\n            'f': \"53\",\n        },\n\"30/03/2022 19:22:34\",\n\"cmaldonado@fi.uba.ar\",\n{\n            'v': 103874,\n            'f': \"103874\",\n        },\n\"Es la soluci\\u00f3n y an\\u00e1lisis de situaciones del d\\u00eda a d\\u00eda en las empresas utilizando software desarrollado para ese preciso fin. \"],\n [{\n            'v': 54,\n            'f': \"54\",\n        },\n\"30/03/2022 19:22:34\",\n\"gdomingo@fi.uba.ar\",\n{\n            'v': 103827,\n            'f': \"103827\",\n        },\n\"Es un metodo para mejorar el sistema de operacion actual de manera que se encuentre la mejor combiancion de uso de los recursos disponibles\"],\n [{\n            'v': 55,\n            'f': \"55\",\n        },\n\"30/03/2022 19:22:34\",\n\"jupascual@fi.uba.ar\",\n{\n            'v': 100690,\n            'f': \"100690\",\n        },\n\"La aplicaci\\u00f3n de modelos de programaci\\u00f3n (machine learning) optimizar procesos.\"],\n [{\n            'v': 56,\n            'f': \"56\",\n        },\n\"30/03/2022 19:22:41\",\n\"fhaselmann@fi.uba.ar\",\n{\n            'v': 104085,\n            'f': \"104085\",\n        },\n\"Es el estudio de m\\u00e9todos y tiempos para la toma de desiciones\"],\n [{\n            'v': 57,\n            'f': \"57\",\n        },\n\"30/03/2022 19:22:47\",\n\"mvalotta@fi.uba.ar\",\n{\n            'v': 99813,\n            'f': \"99813\",\n        },\n\"Buscar la mejor combinaci\\u00f3n de recursos para tener un \\u00f3ptimo tanto para costos, ventas, etc.\"],\n [{\n            'v': 58,\n            'f': \"58\",\n        },\n\"30/03/2022 19:22:53\",\n\"rblancor@fi.uba.ar\",\n{\n            'v': 97470,\n            'f': \"97470\",\n        },\n\"La investigaci\\u00f3n operativa ense\\u00f1a a resolver problemas de todos los \\u00e1mbitos (vida cotidiana, trabajo, negocios, etc). Nos permite aproximar un problema a un modelo y aplicar m\\u00e9todos de resoluci\\u00f3n de esos modelos.\"],\n [{\n            'v': 59,\n            'f': \"59\",\n        },\n\"30/03/2022 19:22:56\",\n\"jcampos@fi.uba.ar\",\n{\n            'v': 97001,\n            'f': \"97001\",\n        },\n\"Investigaci\\u00f3n de una operaci\\u00f3n, mediante un modelado de la misma. As\\u00ed se pueden prever los resultados que se van a obtener.\"],\n [{\n            'v': 60,\n            'f': \"60\",\n        },\n\"30/03/2022 19:23:02\",\n\"czufriategui@fi.uba.ar\",\n{\n            'v': 102770,\n            'f': \"102770\",\n        },\n\"Es el procesamiento de datos para un objetivo. Primero se consiguen los datos y luego se procesan \"],\n [{\n            'v': 61,\n            'f': \"61\",\n        },\n\"30/03/2022 19:23:04\",\n\"mcirolini@fi.uba.ar\",\n{\n            'v': 97739,\n            'f': \"97739\",\n        },\n\"Optimizacion de operaciones, dise\\u00f1o y procesos industriales o de \\u00edndole ingenieril \"],\n [{\n            'v': 62,\n            'f': \"62\",\n        },\n\"30/03/2022 19:23:05\",\n\"aborselli@fi.uba.ar\",\n{\n            'v': 103395,\n            'f': \"103395\",\n        },\n\"Investigar realizando operaciones cuestiones que le interesen a los ingenierios para optimizar por ej procesos \"],\n [{\n            'v': 63,\n            'f': \"63\",\n        },\n\"30/03/2022 19:23:07\",\n\"raruiz@fi.uba.ar\",\n{\n            'v': 88738,\n            'f': \"88738\",\n        },\n\"Es la aplicaci\\u00f3n de soluciones matem\\u00e1ticas para resolver optimizaciones en procesos\"],\n [{\n            'v': 64,\n            'f': \"64\",\n        },\n\"30/03/2022 19:23:11\",\n\"fmartini@fi.uba.ar\",\n{\n            'v': 102620,\n            'f': \"102620\",\n        },\n\"Encontrar problemas y plantear soluciones a distintas operaciones \"],\n [{\n            'v': 65,\n            'f': \"65\",\n        },\n\"30/03/2022 19:23:11\",\n\"dcordara@fi.uba.ar\",\n{\n            'v': 104148,\n            'f': \"104148\",\n        },\n\"Es la resolucion de problemas matematicos a traves de la programacion\"],\n [{\n            'v': 66,\n            'f': \"66\",\n        },\n\"30/03/2022 19:23:18\",\n\"nflorez@fi.uba.ar\",\n{\n            'v': 103904,\n            'f': \"103904\",\n        },\n\"Investigaci\\u00f3n exhaustiva utilizando modelos\"],\n [{\n            'v': 67,\n            'f': \"67\",\n        },\n\"30/03/2022 19:23:28\",\n\"tpugliese@fi.uba.ar\",\n{\n            'v': 101538,\n            'f': \"101538\",\n        },\n\"Una aplicaci\\u00f3n para poder resolver problemas complejos. Simularemos el mundo real y asi luego de llegar a conclusiones tomaremos decisiones a favor de optimizar resultados.\"],\n [{\n            'v': 68,\n            'f': \"68\",\n        },\n\"30/03/2022 19:23:32\",\n\"gbavio@fi.uba.ar\",\n{\n            'v': 101888,\n            'f': \"101888\",\n        },\n\"El pensamiento l\\u00f3gico y la toma de desiciones y como volcarlo en la programaci\\u00f3n \"],\n [{\n            'v': 69,\n            'f': \"69\",\n        },\n\"30/03/2022 19:23:37\",\n\"jvelasquez@fi.uba.ar\",\n{\n            'v': 97205,\n            'f': \"97205\",\n        },\n\"Campo de estudio que trabaja con \\u00e1reas como programaci\\u00f3n de la producci\\u00f3n \"],\n [{\n            'v': 70,\n            'f': \"70\",\n        },\n\"30/03/2022 19:23:38\",\n\"jromanelli@fi.uba.ar\",\n{\n            'v': 103903,\n            'f': \"103903\",\n        },\n\"El empleo de modelos que ayudan a resolver cuestiones propias de las operaciones \"],\n [{\n            'v': 71,\n            'f': \"71\",\n        },\n\"30/03/2022 19:23:50\",\n\"mranitzsch@fi.uba.ar\",\n{\n            'v': 103966,\n            'f': \"103966\",\n        },\n\"Disciplina que trata de describir y solucionar problemas operativos dentro y fuera de una planta\"],\n [{\n            'v': 72,\n            'f': \"72\",\n        },\n\"30/03/2022 19:23:55\",\n\"rback@fi.uba.ar\",\n{\n            'v': 102453,\n            'f': \"102453\",\n        },\n\"Es la forma de resolver un sistema de datos por medio de la programaci\\u00f3n. \"],\n [{\n            'v': 73,\n            'f': \"73\",\n        },\n\"30/03/2022 19:23:55\",\n\"pheredia@fi.uba.ar\",\n{\n            'v': 96220,\n            'f': \"96220\",\n        },\n\"Es una materia que estudia como llevar problem\\u00e1ticas reales a un lenguaje de programaci\\u00f3n de forma que se puedan dar soluciones reales a problemas mediante la ejecuci\\u00f3n de programas .\"],\n [{\n            'v': 74,\n            'f': \"74\",\n        },\n\"30/03/2022 19:23:57\",\n\"amendiburu@fi.uba.ar\",\n{\n            'v': 104580,\n            'f': \"104580\",\n        },\n\"Es la metodolog\\u00eda de investigaci\\u00f3n utilizada en la industria para lograr optimizar procesos\"],\n [{\n            'v': 75,\n            'f': \"75\",\n        },\n\"30/03/2022 19:24:01\",\n\"pranitzsch@fi.uba.ar\",\n{\n            'v': 103969,\n            'f': \"103969\",\n        },\n\"Es una disciplina que trata sobre el desarrollo y aplicaci\\u00f3n de m\\u00e9todos anal\\u00edticos para la mejora en materia de toma de decisiones.\"],\n [{\n            'v': 76,\n            'f': \"76\",\n        },\n\"30/03/2022 19:24:04\",\n\"mamarco@fi.uba.ar\",\n{\n            'v': 104143,\n            'f': \"104143\",\n        },\n\"El an\\u00e1lisis de la relaci\\u00f3n entre el comportamiento humano, las operaciones que los mismos realizan, y los datos y estad\\u00edsticas que los mismos proveen para poder realizar modelos que aproximan o pueden predecir futuros comportamientos y asi poder mejorar/optimizar los desempe\\u00f1os de todo el conjunto\"],\n [{\n            'v': 77,\n            'f': \"77\",\n        },\n\"30/03/2022 19:24:09\",\n\"lfabetti@fi.uba.ar\",\n{\n            'v': 101732,\n            'f': \"101732\",\n        },\n\"Abordaje de problemas mediante analisis de datos y uso de modelos y metodos\"],\n [{\n            'v': 78,\n            'f': \"78\",\n        },\n\"30/03/2022 19:24:12\",\n\"bjeanneret@fi.uba.ar\",\n{\n            'v': 102801,\n            'f': \"102801\",\n        },\n\"Poder traducir en un c\\u00f3digo distintos algoritmos de programaci\\u00f3n\"],\n [{\n            'v': 79,\n            'f': \"79\",\n        },\n\"30/03/2022 19:24:15\",\n\"wendo@fi.uba.ar\",\n{\n            'v': 97164,\n            'f': \"97164\",\n        },\n\"Materia dedicada a la investigaci\\u00f3n y an\\u00e1lisis de datos en una empresa en base a las tecnolog\\u00edas digitales\"],\n [{\n            'v': 80,\n            'f': \"80\",\n        },\n\"30/03/2022 19:24:16\",\n\"mlcaceres@fi.uba.ar\",\n{\n            'v': 74126,\n            'f': \"74126\",\n        },\n\"La b\\u00fasqueda de la menor utilizaci\\u00f3n de recursos en la ingenier\\u00eda a trav\\u00e9s de modelos matem\\u00e1ticos.\"],\n [{\n            'v': 81,\n            'f': \"81\",\n        },\n\"30/03/2022 19:24:18\",\n\"aloyolalozada@fi.uba.ar\",\n{\n            'v': 94387,\n            'f': \"94387\",\n        },\n\"Se ocupa de m\\u00e9todos anal\\u00edticos para ayudar a tomar mejores decisiones\"],\n [{\n            'v': 82,\n            'f': \"82\",\n        },\n\"30/03/2022 19:24:19\",\n\"imirochnik@fi.uba.ar\",\n{\n            'v': 103915,\n            'f': \"103915\",\n        },\n\"Campo que aplica distintos modelos matematicos, a trav\\u00e9s de la programaci\\u00f3n, para sacar conclusiones e inferencias sobre interrogantes que pueden aparecer en la vida profesional, como ser sobre un proceso productivo por ejemplo\"],\n [{\n            'v': 83,\n            'f': \"83\",\n        },\n\"30/03/2022 19:24:20\",\n\"mriccim@fi.uba.ar\",\n{\n            'v': 104009,\n            'f': \"104009\",\n        },\n\"Es el an\\u00e1lisis para hallar el camino m\\u00e1s eficiente para resolver una situaci\\u00f3n \"],\n [{\n            'v': 84,\n            'f': \"84\",\n        },\n\"30/03/2022 19:24:20\",\n\"lleon@fi.uba.ar\",\n{\n            'v': 102347,\n            'f': \"102347\",\n        },\n\"Es la b\\u00fasqueda o el estudio de la forma m\\u00e1s \\u00f3ptima de hacer las cosas\"],\n [{\n            'v': 85,\n            'f': \"85\",\n        },\n\"30/03/2022 19:24:20\",\n\"mspaventa@fi.uba.ar\",\n{\n            'v': 98771,\n            'f': \"98771\",\n        },\n\"Es poder encontrar soluciones racionales a problemas mediante la aplicaci\\u00f3n de distintos m\\u00e9todos matem\\u00e1ticos.\"],\n [{\n            'v': 86,\n            'f': \"86\",\n        },\n\"30/03/2022 19:24:28\",\n\"jchiesa@fi.uba.ar\",\n{\n            'v': 104243,\n            'f': \"104243\",\n        },\n\"Metodologias para tomar mejores decisiones\"],\n [{\n            'v': 87,\n            'f': \"87\",\n        },\n\"30/03/2022 19:24:34\",\n\"ggimenezp@fi.uba.ar\",\n{\n            'v': 104173,\n            'f': \"104173\",\n        },\n\"Utilizar metodos matematicos para resolver problemas\"],\n [{\n            'v': 88,\n            'f': \"88\",\n        },\n\"30/03/2022 19:24:52\",\n\"elcrespo@fi.uba.ar\",\n{\n            'v': 104231,\n            'f': \"104231\",\n        },\n\"Un m\\u00e9todo de acci\\u00f3n basado en la programaci\\u00f3n \"],\n [{\n            'v': 89,\n            'f': \"89\",\n        },\n\"30/03/2022 19:24:57\",\n\"rperello@fi.uba.ar\",\n{\n            'v': 92868,\n            'f': \"92868\",\n        },\n\"Disciplina que desarrolla herramientas para el estudio de probabilidad de eventos\"],\n [{\n            'v': 90,\n            'f': \"90\",\n        },\n\"30/03/2022 19:25:26\",\n\"sernst@fi.uba.ar\",\n{\n            'v': 101193,\n            'f': \"101193\",\n        },\n\"Estudia c\\u00f3mo resolver problemas minerales complejos\"],\n [{\n            'v': 91,\n            'f': \"91\",\n        },\n\"30/03/2022 19:25:30\",\n\"glopezc@fi.uba.ar\",\n{\n            'v': 103271,\n            'f': \"103271\",\n        },\n\"Modelizacion\"],\n [{\n            'v': 92,\n            'f': \"92\",\n        },\n\"30/03/2022 19:25:32\",\n\"corona@fi.uba.ar\",\n{\n            'v': 84360,\n            'f': \"84360\",\n        },\n\"Resolver problemas por medio de modelos matem\\u00e1ticos y l\\u00f3gicos \"],\n [{\n            'v': 93,\n            'f': \"93\",\n        },\n\"30/03/2022 19:25:45\",\n\"bkirkby@fi.uba.ar\",\n{\n            'v': 101356,\n            'f': \"101356\",\n        },\n\"Programaci\\u00f3n de procesos productivos.\"],\n [{\n            'v': 94,\n            'f': \"94\",\n        },\n\"30/03/2022 19:26:00\",\n\"mcalvino@fi.uba.ar\",\n{\n            'v': 102429,\n            'f': \"102429\",\n        },\n\"Da apoyo en la toma de decisiones mediante automatizaci\\u00f3n de procesos\"],\n [{\n            'v': 95,\n            'f': \"95\",\n        },\n\"30/03/2022 19:26:07\",\n\"mandersson@fi.uba.ar\",\n{\n            'v': 103869,\n            'f': \"103869\",\n        },\n\"Es la aplicaci\\u00f3n de modelos matemticos a problemas operativos \"],\n [{\n            'v': 96,\n            'f': \"96\",\n        },\n\"30/03/2022 19:26:25\",\n\"mejuarez@fi.uba.ar\",\n{\n            'v': 100650,\n            'f': \"100650\",\n        },\n\"es la aplicaci\\u00f3n del m\\u00e9todo cient\\u00edfico, con empleo de modelos matem\\u00e1ticos, a los problemas relativos a la conducci\\u00f3n de sistemas organizados (hombre-m\\u00e1quina) para proporcionar soluciones racionales a los mismos.\"],\n [{\n            'v': 97,\n            'f': \"97\",\n        },\n\"30/03/2022 19:27:01\",\n\"tcatavolo@fi.uba.ar\",\n{\n            'v': 104435,\n            'f': \"104435\",\n        },\nNaN],\n [{\n            'v': 98,\n            'f': \"98\",\n        },\n\"30/03/2022 19:27:06\",\n\"vprebble@fi.uba.ar\",\n{\n            'v': 100651,\n            'f': \"100651\",\n        },\n\"Es la aplicaci\\u00f3n de modelos matem\\u00e1ticos a los problemas reales de una organizaci\\u00f3n/ industria para proporcionar soluciones a los mismos, optimizar procesos. \"],\n [{\n            'v': 99,\n            'f': \"99\",\n        },\n\"30/03/2022 19:28:10\",\n\"ncollinet@fi.uba.ar\",\n{\n            'v': 103841,\n            'f': \"103841\",\n        },\n\"La investigaci\\u00f3n operativa nos permite, mediante distintos m\\u00e9todos, resolver problemas en las empresas u organizaciones de una manera eficiente.\"],\n [{\n            'v': 100,\n            'f': \"100\",\n        },\n\"30/03/2022 19:29:23\",\n\"jpetrillo@fi.uba.ar\",\n{\n            'v': 95957,\n            'f': \"95957\",\n        },\n\"Es utilizar m\\u00e9todos anal\\u00edticos para mejorar la toma de decisiones y utilizaci\\u00f3n de recursos\"],\n [{\n            'v': 101,\n            'f': \"101\",\n        },\n\"30/03/2022 19:30:41\",\n\"aazpilicueta@fi.uba.ar\",\n{\n            'v': 103020,\n            'f': \"103020\",\n        },\n\"Una materia muy interesante, en la cual vamos a aprender sobre programacion lineal \"],\n [{\n            'v': 102,\n            'f': \"102\",\n        },\n\"30/03/2022 19:31:25\",\n\"vrack@fi.uba.ar\",\n{\n            'v': 102343,\n            'f': \"102343\",\n        },\n\"Es un metodo de poder automatizar y sacar mejores conclusiones respecto a que cantidades producir y como administrar los recursos para hacerlo eficientemente\"],\n [{\n            'v': 103,\n            'f': \"103\",\n        },\n\"30/03/2022 19:31:48\",\n\"rlozzia@fi.uba.ar\",\n{\n            'v': 93829,\n            'f': \"93829\",\n        },\n\"La utilizaci\\u00f3n de m\\u00e9todos para decidir sobre problemas reales y tomar la mejor decisi\\u00f3n\"],\n [{\n            'v': 104,\n            'f': \"104\",\n        },\n\"30/03/2022 19:34:15\",\n\"jholcman@fi.uba.ar\",\n{\n            'v': 104140,\n            'f': \"104140\",\n        },\n\"Un pilar de la ingenier\\u00eda industrial \"],\n [{\n            'v': 105,\n            'f': \"105\",\n        },\n\"30/03/2022 19:38:08\",\n\"fsantos@fi.uba.ar\",\n{\n            'v': 101352,\n            'f': \"101352\",\n        },\n\"La realizaci\\u00f3n de modelos para entender  la realidad y el futuro\"],\n [{\n            'v': 106,\n            'f': \"106\",\n        },\n\"30/03/2022 19:39:11\",\n\"egarrido@fi.uba.ar\",\n{\n            'v': 86949,\n            'f': \"86949\",\n        },\n\"Ciencia que da la herramienta para modelizar un problema para su comprensi\\u00f3n u optimizaci\\u00f3n\"],\n [{\n            'v': 107,\n            'f': \"107\",\n        },\n\"30/03/2022 19:39:45\",\n\"fkohring@fi.uba.ar\",\n{\n            'v': 96395,\n            'f': \"96395\",\n        },\n\"Disciplina que aplica m\\u00e9todos anal\\u00edticos/cient\\u00edficos para optimizar la utilizaci\\u00f3n de recursos y asi obtener soluciones\"],\n [{\n            'v': 108,\n            'f': \"108\",\n        },\n\"30/03/2022 19:40:06\",\n\"jrivera@fi.uba.ar\",\n{\n            'v': 101674,\n            'f': \"101674\",\n        },\n\"Ni idea\"],\n [{\n            'v': 109,\n            'f': \"109\",\n        },\n\"30/03/2022 19:40:18\",\n\"scaruso@fi.uba.ar\",\n{\n            'v': 93920,\n            'f': \"93920\",\n        },\n\"Es el estudio de las Operaciones y la manera de optimizarlas \"],\n [{\n            'v': 110,\n            'f': \"110\",\n        },\n\"30/03/2022 19:49:14\",\n\"drojas@fi.uba.ar\",\n{\n            'v': 101847,\n            'f': \"101847\",\n        },\n\"Aplicacion de distintas herramientas brindadas por los modelos matematicos para buscar la solucion a distintas problematicas y tambien ayuda a la toma de decisiones\"],\n [{\n            'v': 111,\n            'f': \"111\",\n        },\n\"30/03/2022 19:49:39\",\n\"mprezzavento@fi.uba.ar\",\n{\n            'v': 103458,\n            'f': \"103458\",\n        },\n\"Buscar la mejor forma de distribuir recursos\"],\n [{\n            'v': 112,\n            'f': \"112\",\n        },\n\"30/03/2022 19:50:10\",\n\"fsantos@fi.uba.ar\",\n{\n            'v': 101352,\n            'f': \"101352\",\n        },\n\"La modelizaci\\u00f3n de la realidad \"],\n [{\n            'v': 113,\n            'f': \"113\",\n        },\n\"30/03/2022 20:04:52\",\n\"jvisus@fi.uba.ar\",\n{\n            'v': 89101,\n            'f': \"89101\",\n        },\n\"La Investigacion Operativa  es la aplicaci\\u00f3n de la ciencia moderna a problemas complejos que aparecen en la administraci\\u00f3n de sistemas integrados por hombres, materiales, equipos, capital, tecnolog\\u00eda. En la industria, el comercio, el gobierno y defensa.\\n Su caracter\\u00edstica primordial es la elaboraci\\u00f3n de modelos matem\\u00e1ticos que mediante la incorporaci\\u00f3n de factores de riesgo e incertidumbre permiten evaluar decisiones, formular pol\\u00edticas, analizar alternativas y sacar conclusiones.\\n El objetivo fundamental es ayudar a decidir sobre problemas reales.\\n\"],\n [{\n            'v': 114,\n            'f': \"114\",\n        },\n\"30/03/2022 20:58:18\",\n\"hschenone@fi.uba.ar\",\n{\n            'v': 80518,\n            'f': \"80518\",\n        },\n\"La investigaci\\u00f3n operativa es el uso de modelos matem\\u00e1ticos, aplicando el m\\u00e9todo cient\\u00edfico para resolver problemas proporcionando soluciones racionales. \"],\n [{\n            'v': 115,\n            'f': \"115\",\n        },\n\"30/03/2022 21:17:48\",\n\"frferreyra@fi.uba.ar\",\n{\n            'v': 100994,\n            'f': \"100994\",\n        },\n\"Es la utilizaci\\u00f3n del metodo cient\\u00edfico para elaborar modelos con el fin de tomar mejores decisiones\"],\n [{\n            'v': 116,\n            'f': \"116\",\n        },\n\"30/03/2022 21:52:35\",\n\"jrenovales@fi.uba.ar\",\n{\n            'v': 103787,\n            'f': \"103787\",\n        },\n\"Es el area que se encarga de aplicar distintos metodos operativos para ayudar a la resolucion de problemas.\"],\n [{\n            'v': 117,\n            'f': \"117\",\n        },\n\"30/03/2022 23:07:20\",\n\"jovillamil@fi.uba.ar\",\n{\n            'v': 99825,\n            'f': \"99825\",\n        },\nNaN],\n [{\n            'v': 118,\n            'f': \"118\",\n        },\n\"31/03/2022 12:00:41\",\n\"npesaresi@fi.uba.ar\",\n{\n            'v': 104911,\n            'f': \"104911\",\n        },\n\"Aplicaci\\u00f3n de la ciencia moderna a problemas complejos que aparecen en la administraci\\u00f3n de sistemas que est\\u00e1n integrados por hombres, materiales, equipos, capital, organizaci\\u00f3n, tecnolog\\u00eda e informaci\\u00f3n en la industria, el comercio, el gobierno y defensa.\"],\n [{\n            'v': 119,\n            'f': \"119\",\n        },\n\"1/04/2022 17:30:14\",\n\"mjung@fi.uba.ar\",\n{\n            'v': 102939,\n            'f': \"102939\",\n        },\n\"No pude completar la encuesta con el celular el dia de la clase. Me dijo nacho que la complete igualmente para tomar el presente.\"],\n [{\n            'v': 120,\n            'f': \"120\",\n        },\n\"2/04/2022 9:55:29\",\n\"fcolotto@fi.uba.ar\",\n{\n            'v': 101455,\n            'f': \"101455\",\n        },\n\"El estudio de las operaciones. Como distribuir los recursos para maximizar beneficios o minimizar costos. \"]],\n        columns: [[\"number\", \"index\"], [\"string\", \"Marca temporal\"], [\"string\", \"Direcci\\u00f3n de correo electr\\u00f3nico\"], [\"number\", \"Padr\\u00f3n sin n\\u00fameros\"], [\"string\", \"\\u00bfqu\\u00e9 es la Investigaci\\u00f3n Operativa?\"]],\n        columnOptions: [{\"width\": \"1px\", \"className\": \"index_column\"}],\n        rowsPerPage: 25,\n        helpUrl: \"https://colab.research.google.com/notebooks/data_table.ipynb\",\n        suppressOutputScrolling: true,\n        minimumWidth: undefined,\n      });\n    ",
            "text/plain": [
              "<google.colab.data_table.DataTable object>"
            ]
          },
          "metadata": {},
          "execution_count": 22
        }
      ]
    },
    {
      "cell_type": "markdown",
      "source": [
        "Extraigo algunas columnas del df, hacia otro"
      ],
      "metadata": {
        "id": "Z18gEl9NINWa"
      }
    },
    {
      "cell_type": "code",
      "source": [
        "df_2 = df[['Padrón sin números','¿qué es la Investigación Operativa?']]\n",
        "df_2.columns = ['Padron', 'Respuestas']"
      ],
      "metadata": {
        "id": "0mBKfvVcHStV"
      },
      "execution_count": 24,
      "outputs": []
    },
    {
      "cell_type": "code",
      "source": [
        "import nltk\n",
        "nltk.download('punkt')\n",
        "nltk.download('stopwords')"
      ],
      "metadata": {
        "colab": {
          "base_uri": "https://localhost:8080/"
        },
        "id": "0Tqj_JUGRRiv",
        "outputId": "2ad0853d-ca3b-4c71-8006-e4acdc4c4929"
      },
      "execution_count": 25,
      "outputs": [
        {
          "output_type": "stream",
          "name": "stderr",
          "text": [
            "[nltk_data] Downloading package punkt to /root/nltk_data...\n",
            "[nltk_data]   Unzipping tokenizers/punkt.zip.\n",
            "[nltk_data] Downloading package stopwords to /root/nltk_data...\n",
            "[nltk_data]   Unzipping corpora/stopwords.zip.\n"
          ]
        },
        {
          "output_type": "execute_result",
          "data": {
            "text/plain": [
              "True"
            ]
          },
          "metadata": {},
          "execution_count": 25
        }
      ]
    },
    {
      "cell_type": "markdown",
      "source": [
        "Tokenizacion, remocion de las stop words y stemming"
      ],
      "metadata": {
        "id": "xRebyP8GKa_9"
      }
    },
    {
      "cell_type": "code",
      "source": [
        "stemmer = SnowballStemmer('spanish')\n",
        "for i in range (len(df_2)):\n",
        "  df_2['Respuestas'][i] = word_tokenize(str(df_2['Respuestas'][i]).lower())\n",
        "  df_2['Respuestas'][i] = [word for word in df_2['Respuestas'][i] if word not in stopwords.words('spanish')]\n",
        "  df_2['Respuestas'][i] = [stemmer.stem(t) for t in df_2['Respuestas'][i]]\n",
        "df_2"
      ],
      "metadata": {
        "colab": {
          "base_uri": "https://localhost:8080/",
          "height": 712
        },
        "id": "h7RFXOTYLxBt",
        "outputId": "189e1396-8019-42d5-89f9-5d914a5a064c"
      },
      "execution_count": 26,
      "outputs": [
        {
          "output_type": "stream",
          "name": "stderr",
          "text": [
            "/usr/local/lib/python3.7/dist-packages/ipykernel_launcher.py:3: SettingWithCopyWarning: \n",
            "A value is trying to be set on a copy of a slice from a DataFrame\n",
            "\n",
            "See the caveats in the documentation: https://pandas.pydata.org/pandas-docs/stable/user_guide/indexing.html#returning-a-view-versus-a-copy\n",
            "  This is separate from the ipykernel package so we can avoid doing imports until\n",
            "/usr/local/lib/python3.7/dist-packages/ipykernel_launcher.py:4: SettingWithCopyWarning: \n",
            "A value is trying to be set on a copy of a slice from a DataFrame\n",
            "\n",
            "See the caveats in the documentation: https://pandas.pydata.org/pandas-docs/stable/user_guide/indexing.html#returning-a-view-versus-a-copy\n",
            "  after removing the cwd from sys.path.\n",
            "/usr/local/lib/python3.7/dist-packages/ipykernel_launcher.py:5: SettingWithCopyWarning: \n",
            "A value is trying to be set on a copy of a slice from a DataFrame\n",
            "\n",
            "See the caveats in the documentation: https://pandas.pydata.org/pandas-docs/stable/user_guide/indexing.html#returning-a-view-versus-a-copy\n",
            "  \"\"\"\n"
          ]
        },
        {
          "output_type": "execute_result",
          "data": {
            "text/plain": [
              "     Padron                                         Respuestas\n",
              "0    100723  [bas, utiliz, metod, analit, ayud, tom, mejor,...\n",
              "1     97739  [optimiz, diseñ, oper, ,, control, proces, ind...\n",
              "2     97920                    [aplic, metod, oper, vid, real]\n",
              "3    102908             [optimiz, oper, mediant, uso, program]\n",
              "4    100586  [form, interdisciplinari, resolv, problem, mul...\n",
              "..      ...                                                ...\n",
              "116  103787  [are, encarg, aplic, distint, metod, oper, ayu...\n",
              "117   99825                                              [nan]\n",
              "118  104911  [aplic, cienci, modern, problem, complej, apar...\n",
              "119  102939  [pud, complet, encuest, celul, dia, clas, ., d...\n",
              "120  101455  [estudi, oper, ., distribu, recurs, maximiz, b...\n",
              "\n",
              "[121 rows x 2 columns]"
            ],
            "text/html": [
              "\n",
              "  <div id=\"df-c88ade4d-fc86-4737-9bed-9526bf81e2b6\">\n",
              "    <div class=\"colab-df-container\">\n",
              "      <div>\n",
              "<style scoped>\n",
              "    .dataframe tbody tr th:only-of-type {\n",
              "        vertical-align: middle;\n",
              "    }\n",
              "\n",
              "    .dataframe tbody tr th {\n",
              "        vertical-align: top;\n",
              "    }\n",
              "\n",
              "    .dataframe thead th {\n",
              "        text-align: right;\n",
              "    }\n",
              "</style>\n",
              "<table border=\"1\" class=\"dataframe\">\n",
              "  <thead>\n",
              "    <tr style=\"text-align: right;\">\n",
              "      <th></th>\n",
              "      <th>Padron</th>\n",
              "      <th>Respuestas</th>\n",
              "    </tr>\n",
              "  </thead>\n",
              "  <tbody>\n",
              "    <tr>\n",
              "      <th>0</th>\n",
              "      <td>100723</td>\n",
              "      <td>[bas, utiliz, metod, analit, ayud, tom, mejor,...</td>\n",
              "    </tr>\n",
              "    <tr>\n",
              "      <th>1</th>\n",
              "      <td>97739</td>\n",
              "      <td>[optimiz, diseñ, oper, ,, control, proces, ind...</td>\n",
              "    </tr>\n",
              "    <tr>\n",
              "      <th>2</th>\n",
              "      <td>97920</td>\n",
              "      <td>[aplic, metod, oper, vid, real]</td>\n",
              "    </tr>\n",
              "    <tr>\n",
              "      <th>3</th>\n",
              "      <td>102908</td>\n",
              "      <td>[optimiz, oper, mediant, uso, program]</td>\n",
              "    </tr>\n",
              "    <tr>\n",
              "      <th>4</th>\n",
              "      <td>100586</td>\n",
              "      <td>[form, interdisciplinari, resolv, problem, mul...</td>\n",
              "    </tr>\n",
              "    <tr>\n",
              "      <th>...</th>\n",
              "      <td>...</td>\n",
              "      <td>...</td>\n",
              "    </tr>\n",
              "    <tr>\n",
              "      <th>116</th>\n",
              "      <td>103787</td>\n",
              "      <td>[are, encarg, aplic, distint, metod, oper, ayu...</td>\n",
              "    </tr>\n",
              "    <tr>\n",
              "      <th>117</th>\n",
              "      <td>99825</td>\n",
              "      <td>[nan]</td>\n",
              "    </tr>\n",
              "    <tr>\n",
              "      <th>118</th>\n",
              "      <td>104911</td>\n",
              "      <td>[aplic, cienci, modern, problem, complej, apar...</td>\n",
              "    </tr>\n",
              "    <tr>\n",
              "      <th>119</th>\n",
              "      <td>102939</td>\n",
              "      <td>[pud, complet, encuest, celul, dia, clas, ., d...</td>\n",
              "    </tr>\n",
              "    <tr>\n",
              "      <th>120</th>\n",
              "      <td>101455</td>\n",
              "      <td>[estudi, oper, ., distribu, recurs, maximiz, b...</td>\n",
              "    </tr>\n",
              "  </tbody>\n",
              "</table>\n",
              "<p>121 rows × 2 columns</p>\n",
              "</div>\n",
              "      <button class=\"colab-df-convert\" onclick=\"convertToInteractive('df-c88ade4d-fc86-4737-9bed-9526bf81e2b6')\"\n",
              "              title=\"Convert this dataframe to an interactive table.\"\n",
              "              style=\"display:none;\">\n",
              "        \n",
              "  <svg xmlns=\"http://www.w3.org/2000/svg\" height=\"24px\"viewBox=\"0 0 24 24\"\n",
              "       width=\"24px\">\n",
              "    <path d=\"M0 0h24v24H0V0z\" fill=\"none\"/>\n",
              "    <path d=\"M18.56 5.44l.94 2.06.94-2.06 2.06-.94-2.06-.94-.94-2.06-.94 2.06-2.06.94zm-11 1L8.5 8.5l.94-2.06 2.06-.94-2.06-.94L8.5 2.5l-.94 2.06-2.06.94zm10 10l.94 2.06.94-2.06 2.06-.94-2.06-.94-.94-2.06-.94 2.06-2.06.94z\"/><path d=\"M17.41 7.96l-1.37-1.37c-.4-.4-.92-.59-1.43-.59-.52 0-1.04.2-1.43.59L10.3 9.45l-7.72 7.72c-.78.78-.78 2.05 0 2.83L4 21.41c.39.39.9.59 1.41.59.51 0 1.02-.2 1.41-.59l7.78-7.78 2.81-2.81c.8-.78.8-2.07 0-2.86zM5.41 20L4 18.59l7.72-7.72 1.47 1.35L5.41 20z\"/>\n",
              "  </svg>\n",
              "      </button>\n",
              "      \n",
              "  <style>\n",
              "    .colab-df-container {\n",
              "      display:flex;\n",
              "      flex-wrap:wrap;\n",
              "      gap: 12px;\n",
              "    }\n",
              "\n",
              "    .colab-df-convert {\n",
              "      background-color: #E8F0FE;\n",
              "      border: none;\n",
              "      border-radius: 50%;\n",
              "      cursor: pointer;\n",
              "      display: none;\n",
              "      fill: #1967D2;\n",
              "      height: 32px;\n",
              "      padding: 0 0 0 0;\n",
              "      width: 32px;\n",
              "    }\n",
              "\n",
              "    .colab-df-convert:hover {\n",
              "      background-color: #E2EBFA;\n",
              "      box-shadow: 0px 1px 2px rgba(60, 64, 67, 0.3), 0px 1px 3px 1px rgba(60, 64, 67, 0.15);\n",
              "      fill: #174EA6;\n",
              "    }\n",
              "\n",
              "    [theme=dark] .colab-df-convert {\n",
              "      background-color: #3B4455;\n",
              "      fill: #D2E3FC;\n",
              "    }\n",
              "\n",
              "    [theme=dark] .colab-df-convert:hover {\n",
              "      background-color: #434B5C;\n",
              "      box-shadow: 0px 1px 3px 1px rgba(0, 0, 0, 0.15);\n",
              "      filter: drop-shadow(0px 1px 2px rgba(0, 0, 0, 0.3));\n",
              "      fill: #FFFFFF;\n",
              "    }\n",
              "  </style>\n",
              "\n",
              "      <script>\n",
              "        const buttonEl =\n",
              "          document.querySelector('#df-c88ade4d-fc86-4737-9bed-9526bf81e2b6 button.colab-df-convert');\n",
              "        buttonEl.style.display =\n",
              "          google.colab.kernel.accessAllowed ? 'block' : 'none';\n",
              "\n",
              "        async function convertToInteractive(key) {\n",
              "          const element = document.querySelector('#df-c88ade4d-fc86-4737-9bed-9526bf81e2b6');\n",
              "          const dataTable =\n",
              "            await google.colab.kernel.invokeFunction('convertToInteractive',\n",
              "                                                     [key], {});\n",
              "          if (!dataTable) return;\n",
              "\n",
              "          const docLinkHtml = 'Like what you see? Visit the ' +\n",
              "            '<a target=\"_blank\" href=https://colab.research.google.com/notebooks/data_table.ipynb>data table notebook</a>'\n",
              "            + ' to learn more about interactive tables.';\n",
              "          element.innerHTML = '';\n",
              "          dataTable['output_type'] = 'display_data';\n",
              "          await google.colab.output.renderOutput(dataTable, element);\n",
              "          const docLink = document.createElement('div');\n",
              "          docLink.innerHTML = docLinkHtml;\n",
              "          element.appendChild(docLink);\n",
              "        }\n",
              "      </script>\n",
              "    </div>\n",
              "  </div>\n",
              "  "
            ]
          },
          "metadata": {},
          "execution_count": 26
        }
      ]
    },
    {
      "cell_type": "markdown",
      "source": [
        "Analizo la definicion o palabras clave a comparar."
      ],
      "metadata": {
        "id": "x32iwkJiU8Bq"
      }
    },
    {
      "cell_type": "code",
      "source": [
        "answer = ['método', 'modelo', 'optimizar', 'problema', 'decisiones','analítico','matemático','soluciones']\n",
        "answer = [stemmer.stem(t) for t in answer]\n",
        "answer"
      ],
      "metadata": {
        "colab": {
          "base_uri": "https://localhost:8080/"
        },
        "id": "VXv84hcPSwnV",
        "outputId": "f6f5c136-d0b2-4f0d-9202-c072e4a480ab"
      },
      "execution_count": 27,
      "outputs": [
        {
          "output_type": "execute_result",
          "data": {
            "text/plain": [
              "['metod',\n",
              " 'model',\n",
              " 'optimiz',\n",
              " 'problem',\n",
              " 'decision',\n",
              " 'analit',\n",
              " 'matemat',\n",
              " 'solucion']"
            ]
          },
          "metadata": {},
          "execution_count": 27
        }
      ]
    },
    {
      "cell_type": "markdown",
      "source": [],
      "metadata": {
        "id": "8jwFf1CRalcL"
      }
    },
    {
      "cell_type": "code",
      "source": [
        "from collections import Counter"
      ],
      "metadata": {
        "id": "buhUveA8VhTn"
      },
      "execution_count": 28,
      "outputs": []
    },
    {
      "cell_type": "markdown",
      "source": [
        "Anado una columna para los scores"
      ],
      "metadata": {
        "id": "JkzefKBra2tL"
      }
    },
    {
      "cell_type": "code",
      "source": [
        "df_2['Score'] = 0"
      ],
      "metadata": {
        "colab": {
          "base_uri": "https://localhost:8080/"
        },
        "id": "OPWPHVR-asOI",
        "outputId": "082d7644-55c8-4ed1-a73b-8465b26f66d8"
      },
      "execution_count": 29,
      "outputs": [
        {
          "output_type": "stream",
          "name": "stderr",
          "text": [
            "/usr/local/lib/python3.7/dist-packages/ipykernel_launcher.py:1: SettingWithCopyWarning: \n",
            "A value is trying to be set on a copy of a slice from a DataFrame.\n",
            "Try using .loc[row_indexer,col_indexer] = value instead\n",
            "\n",
            "See the caveats in the documentation: https://pandas.pydata.org/pandas-docs/stable/user_guide/indexing.html#returning-a-view-versus-a-copy\n",
            "  \"\"\"Entry point for launching an IPython kernel.\n"
          ]
        }
      ]
    },
    {
      "cell_type": "code",
      "source": [
        "for i in range (len(df_2)):\n",
        "  df_2['Score'][i] =  list((Counter(answer) & Counter(df_2['Respuestas'][i])).elements())\n",
        "  df_2['Score'][i] = len(df_2['Score'][i])\n",
        "df_2"
      ],
      "metadata": {
        "colab": {
          "base_uri": "https://localhost:8080/",
          "height": 712
        },
        "id": "d3aUaFSka7uU",
        "outputId": "d1983382-413f-413a-f30b-e569d2a4249c"
      },
      "execution_count": 30,
      "outputs": [
        {
          "output_type": "stream",
          "name": "stderr",
          "text": [
            "/usr/local/lib/python3.7/dist-packages/ipykernel_launcher.py:2: SettingWithCopyWarning: \n",
            "A value is trying to be set on a copy of a slice from a DataFrame\n",
            "\n",
            "See the caveats in the documentation: https://pandas.pydata.org/pandas-docs/stable/user_guide/indexing.html#returning-a-view-versus-a-copy\n",
            "  \n",
            "/usr/local/lib/python3.7/dist-packages/pandas/core/indexing.py:1732: SettingWithCopyWarning: \n",
            "A value is trying to be set on a copy of a slice from a DataFrame\n",
            "\n",
            "See the caveats in the documentation: https://pandas.pydata.org/pandas-docs/stable/user_guide/indexing.html#returning-a-view-versus-a-copy\n",
            "  self._setitem_single_block(indexer, value, name)\n",
            "/usr/local/lib/python3.7/dist-packages/pandas/core/series.py:1056: SettingWithCopyWarning: \n",
            "A value is trying to be set on a copy of a slice from a DataFrame\n",
            "\n",
            "See the caveats in the documentation: https://pandas.pydata.org/pandas-docs/stable/user_guide/indexing.html#returning-a-view-versus-a-copy\n",
            "  cacher_needs_updating = self._check_is_chained_assignment_possible()\n"
          ]
        },
        {
          "output_type": "execute_result",
          "data": {
            "text/plain": [
              "     Padron                                         Respuestas Score\n",
              "0    100723  [bas, utiliz, metod, analit, ayud, tom, mejor,...     3\n",
              "1     97739  [optimiz, diseñ, oper, ,, control, proces, ind...     1\n",
              "2     97920                    [aplic, metod, oper, vid, real]     1\n",
              "3    102908             [optimiz, oper, mediant, uso, program]     1\n",
              "4    100586  [form, interdisciplinari, resolv, problem, mul...     1\n",
              "..      ...                                                ...   ...\n",
              "116  103787  [are, encarg, aplic, distint, metod, oper, ayu...     2\n",
              "117   99825                                              [nan]     0\n",
              "118  104911  [aplic, cienci, modern, problem, complej, apar...     1\n",
              "119  102939  [pud, complet, encuest, celul, dia, clas, ., d...     0\n",
              "120  101455  [estudi, oper, ., distribu, recurs, maximiz, b...     0\n",
              "\n",
              "[121 rows x 3 columns]"
            ],
            "text/html": [
              "\n",
              "  <div id=\"df-1df53274-2e87-4ac5-ba78-2baf390ca8ac\">\n",
              "    <div class=\"colab-df-container\">\n",
              "      <div>\n",
              "<style scoped>\n",
              "    .dataframe tbody tr th:only-of-type {\n",
              "        vertical-align: middle;\n",
              "    }\n",
              "\n",
              "    .dataframe tbody tr th {\n",
              "        vertical-align: top;\n",
              "    }\n",
              "\n",
              "    .dataframe thead th {\n",
              "        text-align: right;\n",
              "    }\n",
              "</style>\n",
              "<table border=\"1\" class=\"dataframe\">\n",
              "  <thead>\n",
              "    <tr style=\"text-align: right;\">\n",
              "      <th></th>\n",
              "      <th>Padron</th>\n",
              "      <th>Respuestas</th>\n",
              "      <th>Score</th>\n",
              "    </tr>\n",
              "  </thead>\n",
              "  <tbody>\n",
              "    <tr>\n",
              "      <th>0</th>\n",
              "      <td>100723</td>\n",
              "      <td>[bas, utiliz, metod, analit, ayud, tom, mejor,...</td>\n",
              "      <td>3</td>\n",
              "    </tr>\n",
              "    <tr>\n",
              "      <th>1</th>\n",
              "      <td>97739</td>\n",
              "      <td>[optimiz, diseñ, oper, ,, control, proces, ind...</td>\n",
              "      <td>1</td>\n",
              "    </tr>\n",
              "    <tr>\n",
              "      <th>2</th>\n",
              "      <td>97920</td>\n",
              "      <td>[aplic, metod, oper, vid, real]</td>\n",
              "      <td>1</td>\n",
              "    </tr>\n",
              "    <tr>\n",
              "      <th>3</th>\n",
              "      <td>102908</td>\n",
              "      <td>[optimiz, oper, mediant, uso, program]</td>\n",
              "      <td>1</td>\n",
              "    </tr>\n",
              "    <tr>\n",
              "      <th>4</th>\n",
              "      <td>100586</td>\n",
              "      <td>[form, interdisciplinari, resolv, problem, mul...</td>\n",
              "      <td>1</td>\n",
              "    </tr>\n",
              "    <tr>\n",
              "      <th>...</th>\n",
              "      <td>...</td>\n",
              "      <td>...</td>\n",
              "      <td>...</td>\n",
              "    </tr>\n",
              "    <tr>\n",
              "      <th>116</th>\n",
              "      <td>103787</td>\n",
              "      <td>[are, encarg, aplic, distint, metod, oper, ayu...</td>\n",
              "      <td>2</td>\n",
              "    </tr>\n",
              "    <tr>\n",
              "      <th>117</th>\n",
              "      <td>99825</td>\n",
              "      <td>[nan]</td>\n",
              "      <td>0</td>\n",
              "    </tr>\n",
              "    <tr>\n",
              "      <th>118</th>\n",
              "      <td>104911</td>\n",
              "      <td>[aplic, cienci, modern, problem, complej, apar...</td>\n",
              "      <td>1</td>\n",
              "    </tr>\n",
              "    <tr>\n",
              "      <th>119</th>\n",
              "      <td>102939</td>\n",
              "      <td>[pud, complet, encuest, celul, dia, clas, ., d...</td>\n",
              "      <td>0</td>\n",
              "    </tr>\n",
              "    <tr>\n",
              "      <th>120</th>\n",
              "      <td>101455</td>\n",
              "      <td>[estudi, oper, ., distribu, recurs, maximiz, b...</td>\n",
              "      <td>0</td>\n",
              "    </tr>\n",
              "  </tbody>\n",
              "</table>\n",
              "<p>121 rows × 3 columns</p>\n",
              "</div>\n",
              "      <button class=\"colab-df-convert\" onclick=\"convertToInteractive('df-1df53274-2e87-4ac5-ba78-2baf390ca8ac')\"\n",
              "              title=\"Convert this dataframe to an interactive table.\"\n",
              "              style=\"display:none;\">\n",
              "        \n",
              "  <svg xmlns=\"http://www.w3.org/2000/svg\" height=\"24px\"viewBox=\"0 0 24 24\"\n",
              "       width=\"24px\">\n",
              "    <path d=\"M0 0h24v24H0V0z\" fill=\"none\"/>\n",
              "    <path d=\"M18.56 5.44l.94 2.06.94-2.06 2.06-.94-2.06-.94-.94-2.06-.94 2.06-2.06.94zm-11 1L8.5 8.5l.94-2.06 2.06-.94-2.06-.94L8.5 2.5l-.94 2.06-2.06.94zm10 10l.94 2.06.94-2.06 2.06-.94-2.06-.94-.94-2.06-.94 2.06-2.06.94z\"/><path d=\"M17.41 7.96l-1.37-1.37c-.4-.4-.92-.59-1.43-.59-.52 0-1.04.2-1.43.59L10.3 9.45l-7.72 7.72c-.78.78-.78 2.05 0 2.83L4 21.41c.39.39.9.59 1.41.59.51 0 1.02-.2 1.41-.59l7.78-7.78 2.81-2.81c.8-.78.8-2.07 0-2.86zM5.41 20L4 18.59l7.72-7.72 1.47 1.35L5.41 20z\"/>\n",
              "  </svg>\n",
              "      </button>\n",
              "      \n",
              "  <style>\n",
              "    .colab-df-container {\n",
              "      display:flex;\n",
              "      flex-wrap:wrap;\n",
              "      gap: 12px;\n",
              "    }\n",
              "\n",
              "    .colab-df-convert {\n",
              "      background-color: #E8F0FE;\n",
              "      border: none;\n",
              "      border-radius: 50%;\n",
              "      cursor: pointer;\n",
              "      display: none;\n",
              "      fill: #1967D2;\n",
              "      height: 32px;\n",
              "      padding: 0 0 0 0;\n",
              "      width: 32px;\n",
              "    }\n",
              "\n",
              "    .colab-df-convert:hover {\n",
              "      background-color: #E2EBFA;\n",
              "      box-shadow: 0px 1px 2px rgba(60, 64, 67, 0.3), 0px 1px 3px 1px rgba(60, 64, 67, 0.15);\n",
              "      fill: #174EA6;\n",
              "    }\n",
              "\n",
              "    [theme=dark] .colab-df-convert {\n",
              "      background-color: #3B4455;\n",
              "      fill: #D2E3FC;\n",
              "    }\n",
              "\n",
              "    [theme=dark] .colab-df-convert:hover {\n",
              "      background-color: #434B5C;\n",
              "      box-shadow: 0px 1px 3px 1px rgba(0, 0, 0, 0.15);\n",
              "      filter: drop-shadow(0px 1px 2px rgba(0, 0, 0, 0.3));\n",
              "      fill: #FFFFFF;\n",
              "    }\n",
              "  </style>\n",
              "\n",
              "      <script>\n",
              "        const buttonEl =\n",
              "          document.querySelector('#df-1df53274-2e87-4ac5-ba78-2baf390ca8ac button.colab-df-convert');\n",
              "        buttonEl.style.display =\n",
              "          google.colab.kernel.accessAllowed ? 'block' : 'none';\n",
              "\n",
              "        async function convertToInteractive(key) {\n",
              "          const element = document.querySelector('#df-1df53274-2e87-4ac5-ba78-2baf390ca8ac');\n",
              "          const dataTable =\n",
              "            await google.colab.kernel.invokeFunction('convertToInteractive',\n",
              "                                                     [key], {});\n",
              "          if (!dataTable) return;\n",
              "\n",
              "          const docLinkHtml = 'Like what you see? Visit the ' +\n",
              "            '<a target=\"_blank\" href=https://colab.research.google.com/notebooks/data_table.ipynb>data table notebook</a>'\n",
              "            + ' to learn more about interactive tables.';\n",
              "          element.innerHTML = '';\n",
              "          dataTable['output_type'] = 'display_data';\n",
              "          await google.colab.output.renderOutput(dataTable, element);\n",
              "          const docLink = document.createElement('div');\n",
              "          docLink.innerHTML = docLinkHtml;\n",
              "          element.appendChild(docLink);\n",
              "        }\n",
              "      </script>\n",
              "    </div>\n",
              "  </div>\n",
              "  "
            ]
          },
          "metadata": {},
          "execution_count": 30
        }
      ]
    },
    {
      "cell_type": "markdown",
      "source": [
        "Añado una columna en el df original para las notas"
      ],
      "metadata": {
        "id": "ih5Coz2_lpc2"
      }
    },
    {
      "cell_type": "code",
      "source": [
        "df['Notas'] = 0"
      ],
      "metadata": {
        "id": "IHv64l5YlnXL"
      },
      "execution_count": 32,
      "outputs": []
    },
    {
      "cell_type": "markdown",
      "source": [
        "Defino las notas"
      ],
      "metadata": {
        "id": "AjFO1Kb9lvAY"
      }
    },
    {
      "cell_type": "code",
      "source": [
        "for i in range(len(df_2)):\n",
        "  if df_2['Score'][i] < df_2['Score'].quantile(0.6):\n",
        "    df['Notas'][i] = 0\n",
        "  elif df_2['Score'][i] >= df_2['Score'].quantile(0.6) and df_2['Score'][i] <= df_2['Score'].quantile(0.8):\n",
        "    df['Notas'][i] = 1\n",
        "  elif df_2['Score'][i] > df_2['Score'].quantile(0.8):\n",
        "    df['Notas'][i] = 2\n",
        "df"
      ],
      "metadata": {
        "colab": {
          "base_uri": "https://localhost:8080/",
          "height": 712
        },
        "id": "GIMgkQbZlC-8",
        "outputId": "fbbb624f-b21e-450e-fb7d-ba9aff19500f"
      },
      "execution_count": 34,
      "outputs": [
        {
          "output_type": "stream",
          "name": "stderr",
          "text": [
            "/usr/local/lib/python3.7/dist-packages/ipykernel_launcher.py:7: SettingWithCopyWarning: \n",
            "A value is trying to be set on a copy of a slice from a DataFrame\n",
            "\n",
            "See the caveats in the documentation: https://pandas.pydata.org/pandas-docs/stable/user_guide/indexing.html#returning-a-view-versus-a-copy\n",
            "  import sys\n",
            "/usr/local/lib/python3.7/dist-packages/ipykernel_launcher.py:5: SettingWithCopyWarning: \n",
            "A value is trying to be set on a copy of a slice from a DataFrame\n",
            "\n",
            "See the caveats in the documentation: https://pandas.pydata.org/pandas-docs/stable/user_guide/indexing.html#returning-a-view-versus-a-copy\n",
            "  \"\"\"\n",
            "/usr/local/lib/python3.7/dist-packages/ipykernel_launcher.py:3: SettingWithCopyWarning: \n",
            "A value is trying to be set on a copy of a slice from a DataFrame\n",
            "\n",
            "See the caveats in the documentation: https://pandas.pydata.org/pandas-docs/stable/user_guide/indexing.html#returning-a-view-versus-a-copy\n",
            "  This is separate from the ipykernel package so we can avoid doing imports until\n"
          ]
        },
        {
          "output_type": "execute_result",
          "data": {
            "text/plain": [
              "          Marca temporal Dirección de correo electrónico  Padrón sin números  \\\n",
              "0    30/03/2022 17:49:38               pcortif@fi.uba.ar              100723   \n",
              "1    30/03/2022 18:00:36             mcirolini@fi.uba.ar               97739   \n",
              "2    30/03/2022 18:30:40              rparedes@fi.uba.ar               97920   \n",
              "3    30/03/2022 19:20:14              mledesma@fi.uba.ar              102908   \n",
              "4    30/03/2022 19:20:32              tandrada@fi.uba.ar              100586   \n",
              "..                   ...                             ...                 ...   \n",
              "116  30/03/2022 21:52:35            jrenovales@fi.uba.ar              103787   \n",
              "117  30/03/2022 23:07:20            jovillamil@fi.uba.ar               99825   \n",
              "118  31/03/2022 12:00:41             npesaresi@fi.uba.ar              104911   \n",
              "119   1/04/2022 17:30:14                 mjung@fi.uba.ar              102939   \n",
              "120    2/04/2022 9:55:29              fcolotto@fi.uba.ar              101455   \n",
              "\n",
              "                   ¿qué es la Investigación Operativa?  Notas  \n",
              "0    Se basa en  la utilización de métodos analític...      2  \n",
              "1    Optimización y diseño de operaciones, control ...      1  \n",
              "2    Aplicaciones de métodos operativos a la vida real      1  \n",
              "3    La optimización de las operaciones mediante el...      1  \n",
              "4    Una forma interdisciplinaria de resolver probl...      1  \n",
              "..                                                 ...    ...  \n",
              "116  Es el area que se encarga de aplicar distintos...      1  \n",
              "117                                                NaN      0  \n",
              "118  Aplicación de la ciencia moderna a problemas c...      1  \n",
              "119  No pude completar la encuesta con el celular e...      0  \n",
              "120  El estudio de las operaciones. Como distribuir...      0  \n",
              "\n",
              "[121 rows x 5 columns]"
            ],
            "text/html": [
              "\n",
              "  <div id=\"df-3cb7fb27-3977-4b16-8cdd-830183f8baf0\">\n",
              "    <div class=\"colab-df-container\">\n",
              "      <div>\n",
              "<style scoped>\n",
              "    .dataframe tbody tr th:only-of-type {\n",
              "        vertical-align: middle;\n",
              "    }\n",
              "\n",
              "    .dataframe tbody tr th {\n",
              "        vertical-align: top;\n",
              "    }\n",
              "\n",
              "    .dataframe thead th {\n",
              "        text-align: right;\n",
              "    }\n",
              "</style>\n",
              "<table border=\"1\" class=\"dataframe\">\n",
              "  <thead>\n",
              "    <tr style=\"text-align: right;\">\n",
              "      <th></th>\n",
              "      <th>Marca temporal</th>\n",
              "      <th>Dirección de correo electrónico</th>\n",
              "      <th>Padrón sin números</th>\n",
              "      <th>¿qué es la Investigación Operativa?</th>\n",
              "      <th>Notas</th>\n",
              "    </tr>\n",
              "  </thead>\n",
              "  <tbody>\n",
              "    <tr>\n",
              "      <th>0</th>\n",
              "      <td>30/03/2022 17:49:38</td>\n",
              "      <td>pcortif@fi.uba.ar</td>\n",
              "      <td>100723</td>\n",
              "      <td>Se basa en  la utilización de métodos analític...</td>\n",
              "      <td>2</td>\n",
              "    </tr>\n",
              "    <tr>\n",
              "      <th>1</th>\n",
              "      <td>30/03/2022 18:00:36</td>\n",
              "      <td>mcirolini@fi.uba.ar</td>\n",
              "      <td>97739</td>\n",
              "      <td>Optimización y diseño de operaciones, control ...</td>\n",
              "      <td>1</td>\n",
              "    </tr>\n",
              "    <tr>\n",
              "      <th>2</th>\n",
              "      <td>30/03/2022 18:30:40</td>\n",
              "      <td>rparedes@fi.uba.ar</td>\n",
              "      <td>97920</td>\n",
              "      <td>Aplicaciones de métodos operativos a la vida real</td>\n",
              "      <td>1</td>\n",
              "    </tr>\n",
              "    <tr>\n",
              "      <th>3</th>\n",
              "      <td>30/03/2022 19:20:14</td>\n",
              "      <td>mledesma@fi.uba.ar</td>\n",
              "      <td>102908</td>\n",
              "      <td>La optimización de las operaciones mediante el...</td>\n",
              "      <td>1</td>\n",
              "    </tr>\n",
              "    <tr>\n",
              "      <th>4</th>\n",
              "      <td>30/03/2022 19:20:32</td>\n",
              "      <td>tandrada@fi.uba.ar</td>\n",
              "      <td>100586</td>\n",
              "      <td>Una forma interdisciplinaria de resolver probl...</td>\n",
              "      <td>1</td>\n",
              "    </tr>\n",
              "    <tr>\n",
              "      <th>...</th>\n",
              "      <td>...</td>\n",
              "      <td>...</td>\n",
              "      <td>...</td>\n",
              "      <td>...</td>\n",
              "      <td>...</td>\n",
              "    </tr>\n",
              "    <tr>\n",
              "      <th>116</th>\n",
              "      <td>30/03/2022 21:52:35</td>\n",
              "      <td>jrenovales@fi.uba.ar</td>\n",
              "      <td>103787</td>\n",
              "      <td>Es el area que se encarga de aplicar distintos...</td>\n",
              "      <td>1</td>\n",
              "    </tr>\n",
              "    <tr>\n",
              "      <th>117</th>\n",
              "      <td>30/03/2022 23:07:20</td>\n",
              "      <td>jovillamil@fi.uba.ar</td>\n",
              "      <td>99825</td>\n",
              "      <td>NaN</td>\n",
              "      <td>0</td>\n",
              "    </tr>\n",
              "    <tr>\n",
              "      <th>118</th>\n",
              "      <td>31/03/2022 12:00:41</td>\n",
              "      <td>npesaresi@fi.uba.ar</td>\n",
              "      <td>104911</td>\n",
              "      <td>Aplicación de la ciencia moderna a problemas c...</td>\n",
              "      <td>1</td>\n",
              "    </tr>\n",
              "    <tr>\n",
              "      <th>119</th>\n",
              "      <td>1/04/2022 17:30:14</td>\n",
              "      <td>mjung@fi.uba.ar</td>\n",
              "      <td>102939</td>\n",
              "      <td>No pude completar la encuesta con el celular e...</td>\n",
              "      <td>0</td>\n",
              "    </tr>\n",
              "    <tr>\n",
              "      <th>120</th>\n",
              "      <td>2/04/2022 9:55:29</td>\n",
              "      <td>fcolotto@fi.uba.ar</td>\n",
              "      <td>101455</td>\n",
              "      <td>El estudio de las operaciones. Como distribuir...</td>\n",
              "      <td>0</td>\n",
              "    </tr>\n",
              "  </tbody>\n",
              "</table>\n",
              "<p>121 rows × 5 columns</p>\n",
              "</div>\n",
              "      <button class=\"colab-df-convert\" onclick=\"convertToInteractive('df-3cb7fb27-3977-4b16-8cdd-830183f8baf0')\"\n",
              "              title=\"Convert this dataframe to an interactive table.\"\n",
              "              style=\"display:none;\">\n",
              "        \n",
              "  <svg xmlns=\"http://www.w3.org/2000/svg\" height=\"24px\"viewBox=\"0 0 24 24\"\n",
              "       width=\"24px\">\n",
              "    <path d=\"M0 0h24v24H0V0z\" fill=\"none\"/>\n",
              "    <path d=\"M18.56 5.44l.94 2.06.94-2.06 2.06-.94-2.06-.94-.94-2.06-.94 2.06-2.06.94zm-11 1L8.5 8.5l.94-2.06 2.06-.94-2.06-.94L8.5 2.5l-.94 2.06-2.06.94zm10 10l.94 2.06.94-2.06 2.06-.94-2.06-.94-.94-2.06-.94 2.06-2.06.94z\"/><path d=\"M17.41 7.96l-1.37-1.37c-.4-.4-.92-.59-1.43-.59-.52 0-1.04.2-1.43.59L10.3 9.45l-7.72 7.72c-.78.78-.78 2.05 0 2.83L4 21.41c.39.39.9.59 1.41.59.51 0 1.02-.2 1.41-.59l7.78-7.78 2.81-2.81c.8-.78.8-2.07 0-2.86zM5.41 20L4 18.59l7.72-7.72 1.47 1.35L5.41 20z\"/>\n",
              "  </svg>\n",
              "      </button>\n",
              "      \n",
              "  <style>\n",
              "    .colab-df-container {\n",
              "      display:flex;\n",
              "      flex-wrap:wrap;\n",
              "      gap: 12px;\n",
              "    }\n",
              "\n",
              "    .colab-df-convert {\n",
              "      background-color: #E8F0FE;\n",
              "      border: none;\n",
              "      border-radius: 50%;\n",
              "      cursor: pointer;\n",
              "      display: none;\n",
              "      fill: #1967D2;\n",
              "      height: 32px;\n",
              "      padding: 0 0 0 0;\n",
              "      width: 32px;\n",
              "    }\n",
              "\n",
              "    .colab-df-convert:hover {\n",
              "      background-color: #E2EBFA;\n",
              "      box-shadow: 0px 1px 2px rgba(60, 64, 67, 0.3), 0px 1px 3px 1px rgba(60, 64, 67, 0.15);\n",
              "      fill: #174EA6;\n",
              "    }\n",
              "\n",
              "    [theme=dark] .colab-df-convert {\n",
              "      background-color: #3B4455;\n",
              "      fill: #D2E3FC;\n",
              "    }\n",
              "\n",
              "    [theme=dark] .colab-df-convert:hover {\n",
              "      background-color: #434B5C;\n",
              "      box-shadow: 0px 1px 3px 1px rgba(0, 0, 0, 0.15);\n",
              "      filter: drop-shadow(0px 1px 2px rgba(0, 0, 0, 0.3));\n",
              "      fill: #FFFFFF;\n",
              "    }\n",
              "  </style>\n",
              "\n",
              "      <script>\n",
              "        const buttonEl =\n",
              "          document.querySelector('#df-3cb7fb27-3977-4b16-8cdd-830183f8baf0 button.colab-df-convert');\n",
              "        buttonEl.style.display =\n",
              "          google.colab.kernel.accessAllowed ? 'block' : 'none';\n",
              "\n",
              "        async function convertToInteractive(key) {\n",
              "          const element = document.querySelector('#df-3cb7fb27-3977-4b16-8cdd-830183f8baf0');\n",
              "          const dataTable =\n",
              "            await google.colab.kernel.invokeFunction('convertToInteractive',\n",
              "                                                     [key], {});\n",
              "          if (!dataTable) return;\n",
              "\n",
              "          const docLinkHtml = 'Like what you see? Visit the ' +\n",
              "            '<a target=\"_blank\" href=https://colab.research.google.com/notebooks/data_table.ipynb>data table notebook</a>'\n",
              "            + ' to learn more about interactive tables.';\n",
              "          element.innerHTML = '';\n",
              "          dataTable['output_type'] = 'display_data';\n",
              "          await google.colab.output.renderOutput(dataTable, element);\n",
              "          const docLink = document.createElement('div');\n",
              "          docLink.innerHTML = docLinkHtml;\n",
              "          element.appendChild(docLink);\n",
              "        }\n",
              "      </script>\n",
              "    </div>\n",
              "  </div>\n",
              "  "
            ]
          },
          "metadata": {},
          "execution_count": 34
        }
      ]
    },
    {
      "cell_type": "markdown",
      "source": [
        "Grafico Alumnos vs. Cantidad de palabras acertadads"
      ],
      "metadata": {
        "id": "1XJoMQQaovFr"
      }
    },
    {
      "cell_type": "code",
      "source": [
        "fig,axis = plt.subplots(nrows = 1, ncols = 1, figsize =(13,7))\n",
        "df_2['Score'].value_counts(ascending = True).plot(kind='barh', ax=axis)\n",
        "axis.invert_yaxis()\n",
        "axis.set_xlabel('Alumnos')\n",
        "axis.set_ylabel('Palabras coincidentes')"
      ],
      "metadata": {
        "colab": {
          "base_uri": "https://localhost:8080/",
          "height": 460
        },
        "id": "p8jfBzl3mah8",
        "outputId": "22ca7b07-fbca-48b3-a1c0-f0af74818ca3"
      },
      "execution_count": 36,
      "outputs": [
        {
          "output_type": "execute_result",
          "data": {
            "text/plain": [
              "Text(0, 0.5, 'Palabras coincidentes')"
            ]
          },
          "metadata": {},
          "execution_count": 36
        },
        {
          "output_type": "display_data",
          "data": {
            "text/plain": [
              "<Figure size 936x504 with 1 Axes>"
            ],
            "image/png": "[encoded data removed]"
          },
          "metadata": {
            "needs_background": "light"
          }
        }
      ]
    },
    {
      "cell_type": "markdown",
      "source": [
        "Grafico Alumnos vs. Notas"
      ],
      "metadata": {
        "id": "dRlboAC-o0I0"
      }
    },
    {
      "cell_type": "code",
      "source": [
        "fig,axis = plt.subplots(nrows = 1, ncols = 1, figsize =(13,7))\n",
        "df['Notas'].value_counts(ascending = True).plot(kind='barh', ax=axis)\n",
        "axis.invert_yaxis()\n",
        "axis.set_xlabel('Alumnos')\n",
        "axis.set_ylabel('Notas')"
      ],
      "metadata": {
        "colab": {
          "base_uri": "https://localhost:8080/",
          "height": 460
        },
        "id": "rnsdmP2ao5IB",
        "outputId": "3f673be9-4cea-4967-ea59-98b575c41e3f"
      },
      "execution_count": 39,
      "outputs": [
        {
          "output_type": "execute_result",
          "data": {
            "text/plain": [
              "Text(0, 0.5, 'Notas')"
            ]
          },
          "metadata": {},
          "execution_count": 39
        },
        {
          "output_type": "display_data",
          "data": {
            "text/plain": [
              "<Figure size 936x504 with 1 Axes>"
            ],
            "image/png": "[encoded data removed]"
          },
          "metadata": {
            "needs_background": "light"
          }
        }
      ]
    }
  ]
}